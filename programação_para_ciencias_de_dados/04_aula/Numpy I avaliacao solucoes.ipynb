{
 "cells": [
  {
   "cell_type": "markdown",
   "metadata": {},
   "source": [
    "# <font color=\"blue\"> MBA em Ciência de Dados</font>\n",
    "# <font color=\"blue\">Programação para Ciência de Dados</font>\n",
    "\n",
    "## <font color=\"blue\">Numpy Parte I - Avaliação</font>\n",
    "**Material Produzido por Luis Gustavo Nonato**<br>\n",
    "**Cemeai - ICMC/USP São Carlos**"
   ]
  },
  {
   "cell_type": "markdown",
   "metadata": {},
   "source": [
    "## <font color='red'> As respostas da avaliação devem ser inseridas no moodle </font>"
   ]
  },
  {
   "cell_type": "code",
   "execution_count": 1,
   "metadata": {},
   "outputs": [],
   "source": [
    "import numpy as np"
   ]
  },
  {
   "cell_type": "markdown",
   "metadata": {},
   "source": [
    "### Exercício 1)\n",
    "Considere o array `X` como descrito abaixo:\n",
    "```python\n",
    "[[0  1  2  3  4]\n",
    " [5  6  7  8  9]\n",
    " [10 11 12 13 14]\n",
    " [15 16 17 18 19]]\n",
    "```\n",
    "Qual dos códigos abaixo retorna uma __view__ contendo a submatriz\n",
    "```python\n",
    "[[6  7]\n",
    " [11 12]]\n",
    "```\n",
    "\n",
    "\n",
    "a) print(X[1,2])<br>\n",
    "b) print(X[[2,2,3,3],[2,3,2,3]]) <br>\n",
    "c) print(X[:,[2,3,1])<br>\n",
    "d) <font color='red'>print(X[1:3,1:3])</font>"
   ]
  },
  {
   "cell_type": "code",
   "execution_count": 3,
   "metadata": {},
   "outputs": [
    {
     "name": "stdout",
     "output_type": "stream",
     "text": [
      "[[ 6  7]\n",
      " [11 12]]\n"
     ]
    }
   ],
   "source": [
    "X=np.array([[0,  1,  2,  3,  4],\n",
    " [5,  6,  7,  8,  9],\n",
    " [10, 11, 12, 13, 14],\n",
    " [15, 16, 17, 18, 19]])\n",
    "\n",
    "print(X[1:3,1:3])"
   ]
  },
  {
   "cell_type": "markdown",
   "metadata": {},
   "source": [
    "### Exercício 2)\n",
    "Considerando o array `X` do exercício 1). Qual dos códigos abaixo retorna a __view__ \n",
    "```python\n",
    "[[ 5  7  8]\n",
    " [10 12 13]]\n",
    "\n",
    "```\n",
    "a) print(X[1:3,0:2:3]])<br>\n",
    "b) <font color='red'>print(X[1:3,[0,2,3]])</font><br>\n",
    "c) print(X[1:3,:3])<br>\n",
    "d) print(X[[1,2,3],[0,2,3]])"
   ]
  },
  {
   "cell_type": "code",
   "execution_count": 4,
   "metadata": {},
   "outputs": [
    {
     "name": "stdout",
     "output_type": "stream",
     "text": [
      "[[ 5  7  8]\n",
      " [10 12 13]]\n"
     ]
    }
   ],
   "source": [
    "print(X[1:3,[0,2,3]])"
   ]
  },
  {
   "cell_type": "markdown",
   "metadata": {},
   "source": [
    "### Exercício 3)\n",
    "Considere o array `A` abaixo:\n",
    "```python\n",
    "[[ 2 19 16  1 12  7]\n",
    " [ 5 19 18 17  9  3]\n",
    " [16  4 18 11  4  2]\n",
    " [ 6  2 18 14 15 15]\n",
    " [ 4  8  1 14 1 13]]\n",
    "```\n",
    "Qual das alternativas abaixo imprime o número de dimensões, o número de entradas em cada dimensão e ao número de elementos no array, respectivamente?\n",
    "\n",
    "a) print(A.itemsize, A.shape, A.ndim)<br>\n",
    "b) print(A.ndim, A.itemsize, A.shape)<br>\n",
    "c) print(A.shape, A.dtype, A.size)<br>\n",
    "d) <font color='red'>print(A.ndim, A.shape, A.size)</font>"
   ]
  },
  {
   "cell_type": "code",
   "execution_count": 3,
   "metadata": {},
   "outputs": [
    {
     "name": "stdout",
     "output_type": "stream",
     "text": [
      "2 (5, 6) 30\n"
     ]
    }
   ],
   "source": [
    "A = np.array([[ 2, 19, 16,  1, 12,  7],\n",
    " [ 5, 19, 18, 17,  9,  3],\n",
    " [16,  4, 18, 11,  4,  2],\n",
    " [ 6,  2, 18, 14, 15, 15],\n",
    " [ 4,  8,  1, 14, 1, 13]])\n",
    "\n",
    "print(A.ndim, A.shape, A.size)"
   ]
  },
  {
   "cell_type": "markdown",
   "metadata": {},
   "source": [
    "### Exercício 4) \n",
    "Considere o numpy array `A` do exercício anterior. Escreva um código para criar uma máscara booleana para selecionar todos os elementos **estritamente** menores que 10 no array e armazena-los em um novo array unidimensional `B`. O resultado do comando\n",
    "```python\n",
    "print(B.size)\n",
    "```\n",
    "será:<br>\n",
    "a) 13<br>\n",
    "b) 14<br>\n",
    "c) <font color='red'>15</font><br>\n",
    "d) 16"
   ]
  },
  {
   "cell_type": "code",
   "execution_count": 5,
   "metadata": {},
   "outputs": [
    {
     "name": "stdout",
     "output_type": "stream",
     "text": [
      "(5, 6)\n",
      "(15,)\n",
      "[2 1 7 5 9 3 4 4 2 6 2 4 8 1 1] 15\n"
     ]
    }
   ],
   "source": [
    "#mask =  # escreva o código para criar a máscara\n",
    "\n",
    "mask = (A<10)\n",
    "B = A[mask]\n",
    "print(B,B.size)\n",
    "# copie e cole o resultado do print no moodle"
   ]
  },
  {
   "cell_type": "markdown",
   "metadata": {},
   "source": [
    "### Exercício 5)\n",
    "Ainda considerando o array `A` do exercício 3), que alternativa melhor explica o que o código abaixo está realizando:\n",
    "```python\n",
    "l_mask = [(i%2==0) and (j%2==0) for i in range(A.shape[0]) for j in range(A.shape[1])]\n",
    "mask = np.array(l_mask).reshape(A.shape)\n",
    "A[mask] = -1\n",
    "```\n",
    "a) insere -1 nos elementos das linhas pares de `A`<br>\n",
    "b) insere -1 nas nas linhas ou colunas pares de `A` utilizando uma máscara booleana<br>\n",
    "c) <font color='red'>insere -1 nos elementos cujo índice da linha e da coluna de `A` são pares</font><br>\n",
    "c) troca os elementos pares da matriz por -1 "
   ]
  },
  {
   "cell_type": "code",
   "execution_count": 10,
   "metadata": {},
   "outputs": [
    {
     "name": "stdout",
     "output_type": "stream",
     "text": [
      "[[-1 19 -1  1 -1  7]\n",
      " [ 5 19 18 17  9  3]\n",
      " [-1  4 -1 11 -1  2]\n",
      " [ 6  2 18 14 15 15]\n",
      " [-1  8 -1 14 -1 13]]\n"
     ]
    }
   ],
   "source": [
    "l_mask = [(i%2==0) and (j%2==0) for i in range(A.shape[0]) for j in range(A.shape[1])]\n",
    "mask = np.array(l_mask).reshape(A.shape)\n",
    "A[mask] = -1\n",
    "print(A)"
   ]
  }
 ],
 "metadata": {
  "kernelspec": {
   "display_name": "Python 3",
   "language": "python",
   "name": "python3"
  },
  "language_info": {
   "codemirror_mode": {
    "name": "ipython",
    "version": 3
   },
   "file_extension": ".py",
   "mimetype": "text/x-python",
   "name": "python",
   "nbconvert_exporter": "python",
   "pygments_lexer": "ipython3",
   "version": "3.8.8"
  }
 },
 "nbformat": 4,
 "nbformat_minor": 2
}
